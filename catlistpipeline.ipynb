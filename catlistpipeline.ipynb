{
 "cells": [
  {
   "cell_type": "code",
   "execution_count": 1,
   "id": "64fdf269",
   "metadata": {},
   "outputs": [],
   "source": [
    "import numpy as np\n",
    "import pandas as pd\n",
    "\n",
    "pd.options.display.max_columns = 100\n",
    "idx = pd.IndexSlice\n",
    "\n",
    "%matplotlib inline\n",
    "import matplotlib.pyplot as pt\n",
    "import seaborn as sb\n",
    "sb.set_style('whitegrid')\n",
    "\n",
    "import wikifunctions as wf\n",
    "\n",
    "import requests, json, re, time, os, pprint\n",
    "\n",
    "path = 'catlists\\\\'\n",
    "from datetime import datetime\n",
    "from bs4 import BeautifulSoup\n",
    "from urllib.parse import unquote, quote\n",
    "from copy import deepcopy"
   ]
  },
  {
   "cell_type": "code",
   "execution_count": 2,
   "id": "30ad553c",
   "metadata": {},
   "outputs": [],
   "source": [
    "#set up an empty cat-list pair legend\n",
    "#df=pd.DataFrame(columns=['category','list','suffixes'])\n",
    "#df.head()\n",
    "#df.to_csv(path+'keyPairs.csv',index=False)"
   ]
  },
  {
   "cell_type": "code",
   "execution_count": 3,
   "id": "7ab0f2c6",
   "metadata": {},
   "outputs": [],
   "source": [
    "def get_list(listName):\n",
    "    l=listName.replace(' ','_')\n",
    "    #df=pd.DataFrame()\n",
    "    r = requests.get('https://en.wikipedia.org/wiki/'+str(l))\n",
    "    con = r.content\n",
    "    df = pd.read_html(con)\n",
    "    #df.to_csv(path+l+'.csv')\n",
    "    df['inList']=listName\n",
    "    df['listLink']='https://en.wikipedia.org/wiki/'+str(l)\n",
    "    return df"
   ]
  },
  {
   "cell_type": "code",
   "execution_count": 28,
   "id": "94e08c10",
   "metadata": {},
   "outputs": [],
   "source": [
    "def standardizeLists(df):\n",
    "    #name\n",
    "    dz=pd.DataFrame(columns=['name'])\n",
    "    try:\n",
    "        dz['name']=df['Name']\n",
    "    except:\n",
    "        print(df.head())\n",
    "        return \n",
    "    #birth and/or death years\n",
    "    try:\n",
    "        dz['years']=df['Dates']\n",
    "    except:\n",
    "        try:\n",
    "            dz['years']=df['Birth year']\n",
    "        except:\n",
    "            pass\n",
    "    #nationality\n",
    "    try:\n",
    "        dz['country']=df['Nationality']\n",
    "    except:\n",
    "        pass\n",
    "    #pronouns maybe\n",
    "    try:\n",
    "        dz['pronouns']=df['Pronouns']\n",
    "    except:\n",
    "        pass\n",
    "    #misc info\n",
    "    try:\n",
    "        dz['misc']=df['Comments']\n",
    "    except:\n",
    "        try:\n",
    "            dz['misc']=df['Notable as']\n",
    "        except:\n",
    "            try:\n",
    "                dz['misc']=df['Notes']\n",
    "            except:\n",
    "                pass\n",
    "    dz['inList']=df['inList']\n",
    "    dz['listLink']=df['listLink']\n",
    "    \n",
    "    return dz"
   ]
  },
  {
   "cell_type": "code",
   "execution_count": 29,
   "id": "f49e7576",
   "metadata": {},
   "outputs": [],
   "source": [
    "def get_catMembers(categoryName, d=3):\n",
    "    c=categoryName.replace(' ','_')\n",
    "    catMembers = wf.get_category_members('Category:'+c,\n",
    "                                        depth=d)\n",
    "    df=pd.DataFrame()\n",
    "    df['name']=catMembers\n",
    "    df['wikiLink']=df['name'].apply(lambda s: 'https://en.wikipedia.org/wiki/'+str(s.replace(',','').replace(' ','_')))\n",
    "    df['inCategory']=categoryName\n",
    "    return df"
   ]
  },
  {
   "cell_type": "code",
   "execution_count": 30,
   "id": "18e18707",
   "metadata": {},
   "outputs": [],
   "source": [
    "#d=get_list('List of transgender people')\n",
    "#d=standardizeLists(d)\n",
    "#d.head()"
   ]
  },
  {
   "cell_type": "code",
   "execution_count": 31,
   "id": "aac7e360",
   "metadata": {},
   "outputs": [],
   "source": [
    "def diffListCat(categoryName,listName,suffixes=[]):\n",
    "    a=get_catMembers(categoryName)\n",
    "    b=get_list(listName,suffixes)\n",
    "    b=standardizeLists(b)\n",
    "    try:\n",
    "        c=list(set(b['name']) and set(a['name']))\n",
    "        print(c)\n",
    "    except:\n",
    "        return\n",
    "    notInList=b[b['name'] not in c]\n",
    "    notInCategory=a[a['name'] not in c]\n",
    "    notInList['addToList']=listName\n",
    "    notInCategory['addToCategory']=categoryName\n",
    "    return [notInList, notInCategory]"
   ]
  },
  {
   "cell_type": "code",
   "execution_count": 32,
   "id": "fbebecc9",
   "metadata": {},
   "outputs": [
    {
     "name": "stdout",
     "output_type": "stream",
     "text": [
      "Empty DataFrame\n",
      "Columns: [inList, listLink]\n",
      "Index: []\n",
      "Empty DataFrame\n",
      "Columns: [inList, listLink]\n",
      "Index: []\n",
      "Empty DataFrame\n",
      "Columns: [inList, listLink]\n",
      "Index: []\n",
      "Empty DataFrame\n",
      "Columns: [inList, listLink]\n",
      "Index: []\n",
      "Empty DataFrame\n",
      "Columns: [inList, listLink]\n",
      "Index: []\n"
     ]
    }
   ],
   "source": [
    "df=pd.read_csv(path+'keyPairs.csv',keep_default_na=False,index_col=False)\n",
    "addToList=pd.DataFrame()\n",
    "addToCat=pd.DataFrame()\n",
    "for index, row in df.iterrows():\n",
    "    try:\n",
    "        ls,ct=diffListCat(categoryName=row[0],listName=row[1],suffixes=row[2])\n",
    "        addToList.append(ls)\n",
    "        addToCat.append(ct)\n",
    "    except:\n",
    "        pass"
   ]
  },
  {
   "cell_type": "code",
   "execution_count": 15,
   "id": "b527f5f4",
   "metadata": {},
   "outputs": [
    {
     "name": "stdout",
     "output_type": "stream",
     "text": [
      "\n"
     ]
    }
   ],
   "source": []
  },
  {
   "cell_type": "code",
   "execution_count": null,
   "id": "71bdf884",
   "metadata": {},
   "outputs": [],
   "source": [
    "addToList.to_csv('addToList.csv',index=False)\n",
    "addCategoryTag.to_csv('addToCat.csv',index=False)"
   ]
  },
  {
   "cell_type": "code",
   "execution_count": null,
   "id": "bb41b94c",
   "metadata": {},
   "outputs": [],
   "source": []
  }
 ],
 "metadata": {
  "kernelspec": {
   "display_name": "Python 3",
   "language": "python",
   "name": "python3"
  },
  "language_info": {
   "codemirror_mode": {
    "name": "ipython",
    "version": 3
   },
   "file_extension": ".py",
   "mimetype": "text/x-python",
   "name": "python",
   "nbconvert_exporter": "python",
   "pygments_lexer": "ipython3",
   "version": "3.8.11"
  }
 },
 "nbformat": 4,
 "nbformat_minor": 5
}
