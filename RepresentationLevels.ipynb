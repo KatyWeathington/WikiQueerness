{
 "cells": [
  {
   "cell_type": "code",
   "execution_count": null,
   "id": "30d8b1af",
   "metadata": {},
   "outputs": [],
   "source": [
    "import pandas as pd\n",
    "import seaborn as sns\n",
    "from matplotlib import pyplot\n",
    "import numpy as np\n",
    "from scipy import stats"
   ]
  },
  {
   "cell_type": "code",
   "execution_count": null,
   "id": "52b51636",
   "metadata": {},
   "outputs": [],
   "source": [
    "rates=pd.read_csv('categoryMembershipRates.csv', index_col=0)\n",
    "rates.head()"
   ]
  },
  {
   "cell_type": "code",
   "execution_count": null,
   "id": "dfdb48bf",
   "metadata": {},
   "outputs": [],
   "source": [
    "fig, axes=pyplot.subplots(figsize=(12,9))\n",
    "\n",
    "sns.lineplot(ax=axes, data=rates, dashes=False)\n",
    "axes.grid(False)\n",
    "pyplot.show()"
   ]
  },
  {
   "cell_type": "code",
   "execution_count": null,
   "id": "9e0a2de3",
   "metadata": {},
   "outputs": [],
   "source": [
    "fig, axes=pyplot.subplots(figsize=(12,9))\n",
    "\n",
    "axes.fill_between(rates.index, rates['LGBT'], 0)\n",
    "axes.fill_between(rates.index, rates['LGBT'],1)\n",
    "axes.grid(False)\n",
    "axes.legend(['LGBT','Not LGBT'])\n",
    "pyplot.show()"
   ]
  },
  {
   "cell_type": "code",
   "execution_count": null,
   "id": "7ed1105f",
   "metadata": {},
   "outputs": [],
   "source": [
    "fig, axes=pyplot.subplots(figsize=(12,9))\n",
    "axes.grid(False)\n",
    "axes.fill_between(rates.index, rates['Trans'], 0)\n",
    "axes.fill_between(rates.index, rates['Trans'],1)\n",
    "axes.legend(['Trans','Not Trans'])\n",
    "pyplot.show()"
   ]
  },
  {
   "cell_type": "code",
   "execution_count": null,
   "id": "80f347cc",
   "metadata": {},
   "outputs": [],
   "source": []
  }
 ],
 "metadata": {
  "kernelspec": {
   "display_name": "Python 3",
   "language": "python",
   "name": "python3"
  },
  "language_info": {
   "codemirror_mode": {
    "name": "ipython",
    "version": 3
   },
   "file_extension": ".py",
   "mimetype": "text/x-python",
   "name": "python",
   "nbconvert_exporter": "python",
   "pygments_lexer": "ipython3",
   "version": "3.8.11"
  }
 },
 "nbformat": 4,
 "nbformat_minor": 5
}
