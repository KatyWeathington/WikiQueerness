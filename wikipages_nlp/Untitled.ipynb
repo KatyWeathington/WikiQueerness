{
 "cells": [
  {
   "cell_type": "code",
   "execution_count": 4,
   "id": "fd2fec88",
   "metadata": {},
   "outputs": [
    {
     "name": "stdout",
     "output_type": "stream",
     "text": [
      "Success: the bamboolib extension was enabled successfully. You can disable it via 'bam.disable()'. You will now see a magic bamboolib button when you display your dataframes, for example via 'df'\n"
     ]
    }
   ],
   "source": [
    "# Import bamboolib, Pandas, and the Titanic dataset\n",
    "import bamboolib as bam\n",
    "import pandas as pd\n",
    "import bamboolib as bam\n",
    "bam.enable()\n",
    "df = pd.read_csv(bam.titanic_csv)"
   ]
  },
  {
   "cell_type": "code",
   "execution_count": 6,
   "id": "98f030d5",
   "metadata": {
    "scrolled": true
   },
   "outputs": [
    {
     "name": "stdout",
     "output_type": "stream",
     "text": [
      "Testing Jupyter extensions:\n",
      "\n",
      "ipywidgets:\n"
     ]
    },
    {
     "data": {
      "application/vnd.jupyter.widget-view+json": {
       "model_id": "0bb6b1e2a7e84d6fba82551de6321900",
       "version_major": 2,
       "version_minor": 0
      },
      "text/plain": [
       "Text(value='ipywidgets works')"
      ]
     },
     "metadata": {},
     "output_type": "display_data"
    },
    {
     "name": "stdout",
     "output_type": "stream",
     "text": [
      "\n",
      "ipyslickgrid:\n",
      "Python library version is 0.0.3\n"
     ]
    },
    {
     "data": {
      "application/vnd.jupyter.widget-view+json": {
       "model_id": "07a937f5daf4477c85b25edb6d0449a0",
       "version_major": 2,
       "version_minor": 0
      },
      "text/plain": [
       "QgridWidget(grid_options={'fullWidthRows': True, 'syncColumnCellResize': True, 'forceFitColumns': True, 'defau…"
      ]
     },
     "metadata": {},
     "output_type": "display_data"
    },
    {
     "name": "stdout",
     "output_type": "stream",
     "text": [
      "\n",
      "plotly:\n",
      "Python library version is 4.14.3\n"
     ]
    },
    {
     "data": {
      "application/vnd.jupyter.widget-view+json": {
       "model_id": "1a5293b05f8040f79c5dbb4d990af6e8",
       "version_major": 2,
       "version_minor": 0
      },
      "text/plain": [
       "FigureWidget({\n",
       "    'data': [{'type': 'bar', 'uid': '9e08ac16-5cf3-499b-b8fe-a03f539bbb48', 'x': ['Plotly', 'wo…"
      ]
     },
     "metadata": {},
     "output_type": "display_data"
    },
    {
     "name": "stdout",
     "output_type": "stream",
     "text": [
      "\n",
      "bamboolib:\n",
      "Python library version is 1.26.0\n",
      "Needed version of Jupyter extension is 1.26.0\n"
     ]
    },
    {
     "data": {
      "application/vnd.jupyter.widget-view+json": {
       "model_id": "00a95c65392b4edfb06a66bce4222cb1",
       "version_major": 2,
       "version_minor": 0
      },
      "text/plain": [
       "Multiselect(placeholder='bamboolib widget works', _dom_classes=('bamboolib-overflow-visible', 'selectize-md'))"
      ]
     },
     "metadata": {},
     "output_type": "display_data"
    },
    {
     "name": "stdout",
     "output_type": "stream",
     "text": [
      "\n",
      "JupyterLab and Labextensions:\n"
     ]
    },
    {
     "name": "stderr",
     "output_type": "stream",
     "text": [
      "JupyterLab v3.1.14\n"
     ]
    }
   ],
   "source": [
    "import bamboolib as bam\n",
    "bam.test_setup()"
   ]
  },
  {
   "cell_type": "code",
   "execution_count": null,
   "id": "5d2591e6",
   "metadata": {},
   "outputs": [],
   "source": []
  }
 ],
 "metadata": {
  "kernelspec": {
   "display_name": "Python 3 (ipykernel)",
   "language": "python",
   "name": "python3"
  },
  "language_info": {
   "codemirror_mode": {
    "name": "ipython",
    "version": 3
   },
   "file_extension": ".py",
   "mimetype": "text/x-python",
   "name": "python",
   "nbconvert_exporter": "python",
   "pygments_lexer": "ipython3",
   "version": "3.9.7"
  }
 },
 "nbformat": 4,
 "nbformat_minor": 5
}
